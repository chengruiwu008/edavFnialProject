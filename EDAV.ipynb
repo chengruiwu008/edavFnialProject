{
 "cells": [
  {
   "cell_type": "markdown",
   "metadata": {},
   "source": [
    "### Import packages we need"
   ]
  },
  {
   "cell_type": "code",
   "execution_count": 1,
   "metadata": {},
   "outputs": [],
   "source": [
    "import numpy as np\n",
    "import pandas as pd\n",
    "import math\n",
    "pd.options.mode.chained_assignment = None \n",
    "import os\n",
    "cwd = os.getcwd()\n",
    "import nltk\n",
    "from nltk.tokenize import word_tokenize\n",
    "import collections\n",
    "import re\n",
    "import operator\n",
    "from nltk.corpus import stopwords \n",
    "from nltk.tokenize import word_tokenize\n",
    "import math"
   ]
  },
  {
   "cell_type": "markdown",
   "metadata": {},
   "source": [
    "### Read in the data and calcuate average price per person per night of a rental based on number of accommodation "
   ]
  },
  {
   "cell_type": "code",
   "execution_count": 64,
   "metadata": {},
   "outputs": [],
   "source": [
    "Price = pd.read_csv('listings.csv')"
   ]
  },
  {
   "cell_type": "code",
   "execution_count": 321,
   "metadata": {},
   "outputs": [],
   "source": [
    "Price['price'] = Price['price'].str.replace('$','')\n",
    "Price['price'] = Price['price'].str.replace(',','')\n",
    "Price['price'] = pd.to_numeric(Price['price'])\n",
    "Price['accommodates'] = pd.to_numeric(Price['accommodates'])\n",
    "price = Price.dropna(subset=['transit'])\n",
    "Price_94104 = Price[Price['zipcode'] == float(94104)].dropna(subset=['description'])\n",
    "\n",
    "#calculate the average price based on the price and how many people a room can accommodate\n",
    "price['average price'] = price['price']/price['accommodates']\n",
    "Price['average price'] = Price['price']/Price['accommodates']"
   ]
  },
  {
   "cell_type": "markdown",
   "metadata": {},
   "source": [
    "### create filler word dictionary"
   ]
  },
  {
   "cell_type": "code",
   "execution_count": 162,
   "metadata": {},
   "outputs": [],
   "source": [
    "stop_words = set(stopwords.words('english')) "
   ]
  },
  {
   "cell_type": "markdown",
   "metadata": {},
   "source": [
    "### count the frequency of each word being used in transit descripitions "
   ]
  },
  {
   "cell_type": "code",
   "execution_count": 221,
   "metadata": {},
   "outputs": [],
   "source": [
    "def count_word(price,stop_words,column,n):\n",
    "    dict_full_list = []\n",
    "    string = str(list(price[column]))\n",
    "    string_replace = re.sub('[0-9]|\\,|\\.|\\)|\\(|\\'|-|:|\\``|\\#|\\&|’|\\/|\\$|\\?|\\!|;|•|-|\\*|~|>|=|–|(\\\\b[A-Za-z] \\\\b|\\\\b [A-Za-z]\\\\b)','',string).lower()\n",
    "    word_tokens = map(str.lower,word_tokenize(string_replace))\n",
    "    word_tokens = [w for w in word_tokens if w not in stop_words]\n",
    "    di = dict(collections.Counter(word_tokens))\n",
    "    sorted_di = dict(sorted(di.items(), key=operator.itemgetter(1),reverse=True))\n",
    "    for j in range(len(sorted_di.keys())):\n",
    "        sorted_di[list(sorted_di.keys())[j]] = sorted_di[list(sorted_di.keys())[j]]\n",
    "    try:\n",
    "        del sorted_di[\"``\"]\n",
    "        del sorted_di[\"''\"]\n",
    "    except:\n",
    "        pass\n",
    "    \n",
    "    dict_full_list.append(sorted_di)\n",
    "    \n",
    "    dict_full_list = dict_full_list[0]\n",
    "    keys = list(dict_full_list.keys())\n",
    "    \n",
    "    words = []\n",
    "    freq = []\n",
    "    for i in range(0,n):\n",
    "        if keys[i] !=\"``\" and \"''\":\n",
    "            words.append(keys[i])\n",
    "            freq.append(dict_full_list[keys[i]])\n",
    "                 \n",
    "    word_counts = pd.DataFrame({\"words\":words,\"freq\":freq})\n",
    "    \n",
    "    return word_counts\n"
   ]
  },
  {
   "cell_type": "code",
   "execution_count": 241,
   "metadata": {},
   "outputs": [],
   "source": [
    "column = 'transit'\n",
    "word_counts_transit = count_word(price,stop_words,column,400)\n",
    "\n",
    "column = 'description'\n",
    "word_counts_description = count_word(price,stop_words,column,400)\n",
    "word_counts_94014 = count_word(Price_94104,stop_words,column,400)\n",
    "\n",
    "\n",
    "column = 'amenities'\n",
    "word_counts_amenities = count_word(price,stop_words,column,400)"
   ]
  },
  {
   "cell_type": "code",
   "execution_count": 242,
   "metadata": {},
   "outputs": [],
   "source": [
    "word_counts_transit.to_csv(\"word_counts_transit.csv\")\n",
    "word_counts_description.to_csv(\"word_counts_description.csv\")\n",
    "word_counts_94014.to_csv(\"word_counts_94104.csv\")"
   ]
  },
  {
   "cell_type": "markdown",
   "metadata": {},
   "source": [
    "### breakdown the average price interval into every 10 dollars and count the word frequency of transit descrption in each price range"
   ]
  },
  {
   "cell_type": "code",
   "execution_count": 166,
   "metadata": {},
   "outputs": [],
   "source": [
    "def create_dict(price):\n",
    "    dict_list = {}\n",
    "    for i in range(4):\n",
    "        priceCap = float(i * 50)\n",
    "        p = price.copy()\n",
    "        p =p[(p['price'] > priceCap) & (p['price'] <= priceCap + 50)]\n",
    "\n",
    "        string = str(list(p[\"transit\"]))\n",
    "        string_replace = re.sub('[0-9]|\\,|\\.|\\)|\\(|\\]|\\[|\\'|-|:|\\``|\\#|\\&|’|\\/|\\$|\\?|\\!|;|•|-|\\*|~|>|=|–|(\\\\b[A-Za-z] \\\\b|\\\\b [A-Za-z]\\\\b)','',string).lower()\n",
    "        word_tokens = map(str.lower,word_tokenize(string_replace))\n",
    "        word_tokens = [w for w in word_tokens if w not in stop_words]\n",
    "        di = dict(collections.Counter(word_tokens))\n",
    "        sorted_di = dict(sorted(di.items(), key=operator.itemgetter(1),reverse=True))\n",
    "        for j in range(len(sorted_di.keys())):\n",
    "            sorted_di[list(sorted_di.keys())[j]] = sorted_di[list(sorted_di.keys())[j]]/len(p)\n",
    "        del sorted_di[\"``\"]\n",
    "        del sorted_di[\"''\"]\n",
    "        dict_list[i] = sorted_di\n",
    "\n",
    "\n",
    "    p = price.copy()\n",
    "    p = p[(p['average price'] > 200)]\n",
    "    string = str(list(p[\"transit\"]))\n",
    "    string_replace = re.sub('[0-9]|\\,|\\.|\\)|\\(|\\'|-|:|\\]|\\[|\\``|\\#|\\&|’|\\/|\\$|\\?|\\!|;|•|-|\\*|~|>|=|–|(\\\\b[A-Za-z] \\\\b|\\\\b [A-Za-z]\\\\b)','',string).lower()\n",
    "    word_tokens = map(str.lower,word_tokenize(string_replace))\n",
    "    word_tokens = [w for w in word_tokens if w not in stop_words]\n",
    "    di = dict(collections.Counter(word_tokens))\n",
    "    sorted_di = dict(sorted(di.items(), key=operator.itemgetter(1),reverse=True))\n",
    "    for j in range(len(sorted_di.keys())):\n",
    "        sorted_di[list(sorted_di.keys())[j]] = sorted_di[list(sorted_di.keys())[j]]/len(p)\n",
    "\n",
    "    del sorted_di[\"``\"]\n",
    "    del sorted_di[\"''\"]\n",
    "    dict_list[4] = sorted_di\n",
    "    \n",
    "    return dict_list\n"
   ]
  },
  {
   "cell_type": "code",
   "execution_count": 167,
   "metadata": {},
   "outputs": [],
   "source": [
    "dict_list = create_dict(price)"
   ]
  },
  {
   "cell_type": "markdown",
   "metadata": {},
   "source": [
    "### list of means of transportation "
   ]
  },
  {
   "cell_type": "code",
   "execution_count": 311,
   "metadata": {},
   "outputs": [],
   "source": [
    "checkBus = [\"bus\",\"bart\",\"shuttle\",\"car\",\"bike\",\"train\",\"walk\",\"uber\",\"lyft\",\"taxi\"]\n",
    "checkBus_ = [\"parking\"]\n",
    "checkPet = [\"pets\",\"Pets\",\"Dogs\",\"Dog\",\"Cat\",\"Cats\"]\n",
    "checkDescription = [\"private\",\"kitchen\"]"
   ]
  },
  {
   "cell_type": "code",
   "execution_count": 312,
   "metadata": {},
   "outputs": [],
   "source": [
    "def create_Price_Range_Word_Freq(dict_list):\n",
    "    word = []\n",
    "    price_Range = []\n",
    "    freq = []\n",
    "    for i in range(len(dict_list.keys())):\n",
    "        keys = list(dict_list[i].keys())\n",
    "        for j in range(11):\n",
    "            word.append(keys[j])\n",
    "            price_Range.append(str(i * 50) + \"~\" + str((i + 1) * 50))\n",
    "            freq.append(dict_list[i][keys[j]])\n",
    "\n",
    "    for i in range(1,len(price_Range)):\n",
    "        if price_Range[i] == \"200~250\":\n",
    "            price_Range[i] = \">200\"\n",
    "            \n",
    "    word_freq_price_interval = pd.DataFrame({\"word\": word,\"group\":price_Range,\"value\":freq})\n",
    "    \n",
    "    return word_freq_price_interval\n",
    "    "
   ]
  },
  {
   "cell_type": "markdown",
   "metadata": {},
   "source": [
    "### wirte word frequency count csv"
   ]
  },
  {
   "cell_type": "code",
   "execution_count": 313,
   "metadata": {},
   "outputs": [],
   "source": [
    "word_freq_price_interval = create_Price_Range_Word_Freq(dict_list)\n",
    "word_freq_price_interval.to_csv(\"word_freq_price_interval.csv\")"
   ]
  },
  {
   "cell_type": "code",
   "execution_count": 314,
   "metadata": {},
   "outputs": [],
   "source": [
    "def get_Data_Frame(check,p,column):\n",
    "    price = p.copy()\n",
    "    for i in range(len(check)):\n",
    "        price[check[i]] = 0\n",
    "    for i in list(price[column].index):\n",
    "        for j in range(len(check)):\n",
    "            try:\n",
    "                list_ = re.sub('[0-9]|\\{|\\}|\\\"|\\,|\\.|\\)|\\(|\\]|\\[|\\'|-|:|\\``|\\#|\\&|’|\\/|\\$|\\?|\\!|;|•|-|\\*|~|>|=|–|(\\\\b[A-Za-z] \\\\b|\\\\b [A-Za-z]\\\\b)','',\\\n",
    "                              price[column][i]).lower().split()\n",
    "                if check[j] in list_:\n",
    "                    price[check[j]][i] = \"Include\"\n",
    "                else:\n",
    "                    price[check[j]][i] = \"Not Include\"\n",
    "            except:\n",
    "                price[check[j]][i] = \"Not Include\"\n",
    "    return price"
   ]
  },
  {
   "cell_type": "code",
   "execution_count": 315,
   "metadata": {},
   "outputs": [],
   "source": [
    "def get_Data_Frame_Amenities(check,p,column):\n",
    "    price = p.copy()\n",
    "    for i in range(len(check)):\n",
    "        price[check[i]] = 0\n",
    "    for i in list(price[column].index):\n",
    "        for j in range(len(check)):\n",
    "            list_ = price[column][0].replace(\"\\\"\",\" \").replace(\"\\'\",\" \").replace(\"-\",\" \").\\\n",
    "            replace(\"{\",\" \").replace(\"}\",\" \").lower().split(',')\n",
    "            list_ = [list_.strip() for item in list_]\n",
    "            if check[j] in list_:\n",
    "                price[check[j]][i] = 1\n",
    "            else:\n",
    "                price[check[j]][i] = 0\n",
    "    return price"
   ]
  },
  {
   "cell_type": "code",
   "execution_count": 316,
   "metadata": {},
   "outputs": [],
   "source": [
    "def get_Data_Frame_Flag(check,p,column):\n",
    "    price = p.copy()\n",
    "    price[\"Transit\"] = 0\n",
    "    for i in range(len(price[column])):\n",
    "        try:\n",
    "            list_ = re.sub('[0-9]|\\,|\\.|\\)|\\(|\\]|\\[|\\'|-|:|\\``|\\#|\\&|’|\\/|\\$|\\?|\\!|;|•|-|\\*|~|>|=|–|(\\\\b[A-Za-z] \\\\b|\\\\b [A-Za-z]\\\\b)','',\\\n",
    "                          price[column][i]).lower().split()\n",
    "            if any(item for item in list_ if item in check):\n",
    "                price[\"Transit\"][i] = \"Include\" \n",
    "            else:\n",
    "                price[\"Transit\"][i] = \"Not Include\"\n",
    "        except:\n",
    "            price[\"Transit\"][i] = \"Not Include\"\n",
    "    return price"
   ]
  },
  {
   "cell_type": "code",
   "execution_count": 317,
   "metadata": {},
   "outputs": [],
   "source": [
    "def get_Data_Frame_Flag_Parking(check,p,column):\n",
    "    price = p.copy()\n",
    "    price[\"Parking\"] = 0\n",
    "    for i in range(len(price[column])):\n",
    "        try:\n",
    "            if any(item for item in check if item in price[column][i]):\n",
    "                price[\"Parking\"][i] = \"Include\"\n",
    "            else:\n",
    "                price[\"Parking\"][i] = \"Not Include\"\n",
    "        except:\n",
    "            price[\"Parking\"][i] = \"Not Include\"\n",
    "    return price"
   ]
  },
  {
   "cell_type": "code",
   "execution_count": 318,
   "metadata": {},
   "outputs": [],
   "source": [
    "column = \"transit\"\n",
    "priceNew = get_Data_Frame(checkBus,price,column)\n",
    "price_New_Parking = get_Data_Frame_Flag_Parking(checkBus_,Price,column)\n",
    "price_New_Transit = get_Data_Frame_Flag(checkBus,Price,column)\n",
    "\n",
    "column = 'description'\n",
    "price_New_Description = get_Data_Frame(checkDescription,Price,column)\n",
    "#column = \"amenities\"\n",
    "#price_New_Pets = get_Data_Frame_Amenities(checkPet,Price,column)"
   ]
  },
  {
   "cell_type": "code",
   "execution_count": 319,
   "metadata": {},
   "outputs": [],
   "source": [
    "priceNew.to_csv(\"priceNew.csv\")\n",
    "price_New_Description.to_csv(\"price_New_Description.csv\")\n",
    "price_New_Parking.to_csv(\"price_New_Parking.csv\")\n",
    "price_New_Transit.to_csv(\"price_New_Transit.csv\")\n",
    "price_New_Pets.to_csv(\"price_New_Pets.csv\")"
   ]
  },
  {
   "cell_type": "code",
   "execution_count": 65,
   "metadata": {},
   "outputs": [],
   "source": [
    "for index,row in Price.iterrows():\n",
    "    shortest_distance = 100\n",
    "    for j in range(len(sight_coordinate)):\n",
    "        distance = ((Price['latitude'][index] - sight_coordinate[j][0])**2 + (Price['longitude'][index] - sight_coordinate[j][1])**2) ** 1/2\n",
    "        if distance < shortest_distance: \n",
    "            shortest_distance = distance\n",
    "    Price.at[index,'Shortest Distance'] = shortest_distance         "
   ]
  },
  {
   "cell_type": "code",
   "execution_count": 67,
   "metadata": {},
   "outputs": [],
   "source": [
    "\n",
    "Price.to_csv(\"price_Sight.csv\")"
   ]
  },
  {
   "cell_type": "code",
   "execution_count": null,
   "metadata": {},
   "outputs": [],
   "source": []
  }
 ],
 "metadata": {
  "kernelspec": {
   "display_name": "Python 3",
   "language": "python",
   "name": "python3"
  },
  "language_info": {
   "codemirror_mode": {
    "name": "ipython",
    "version": 3
   },
   "file_extension": ".py",
   "mimetype": "text/x-python",
   "name": "python",
   "nbconvert_exporter": "python",
   "pygments_lexer": "ipython3",
   "version": "3.6.5"
  }
 },
 "nbformat": 4,
 "nbformat_minor": 2
}
